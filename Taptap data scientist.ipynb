{
 "cells": [
  {
   "cell_type": "code",
   "execution_count": 1,
   "metadata": {},
   "outputs": [],
   "source": [
    "import pandas as pd\n",
    "import numpy as np"
   ]
  },
  {
   "cell_type": "code",
   "execution_count": 2,
   "metadata": {},
   "outputs": [],
   "source": [
    "train = pd.read_csv(\"train_dataset.csv\")\n",
    "test = pd.read_csv(\"test_dataset.csv\")"
   ]
  },
  {
   "cell_type": "code",
   "execution_count": 20,
   "metadata": {},
   "outputs": [
    {
     "data": {
      "text/plain": [
       "Index(['Product', 'Product_Brand', 'Item_Category', 'Subcategory_1',\n",
       "       'Subcategory_2', 'Item_Rating', 'Date', 'Selling_Price'],\n",
       "      dtype='object')"
      ]
     },
     "execution_count": 20,
     "metadata": {},
     "output_type": "execute_result"
    }
   ],
   "source": [
    "train.columns"
   ]
  },
  {
   "cell_type": "code",
   "execution_count": 19,
   "id": "fa008961",
   "metadata": {},
   "outputs": [
    {
     "data": {
      "text/plain": [
       "Item_Category\n",
       "clothing                                            605\n",
       "jewellery                                           359\n",
       "automotive                                          165\n",
       "footwear                                            131\n",
       "computers                                            92\n",
       "                                                   ... \n",
       "tadd men s women s ankle length socks                 1\n",
       "olvin aviator sunglasses                              1\n",
       "sonaxo men running shoes                              1\n",
       "favourite bikerz 3514 rad air filter ionic air f      1\n",
       "say uv sterilizer solid filter cartridge 0 pac        1\n",
       "Name: count, Length: 67, dtype: int64"
      ]
     },
     "execution_count": 19,
     "metadata": {},
     "output_type": "execute_result"
    }
   ],
   "source": [
    "train.Item_Category.value_counts()"
   ]
  },
  {
   "cell_type": "markdown",
   "metadata": {},
   "source": [
    "You are given the following dataset. As you can probably already infer, it is from an e-commerce platform. Your task is to try and come up with a solid ML model that can predict the price of the good given those 7 columns. Please use the already given train test split."
   ]
  },
  {
   "cell_type": "markdown",
   "metadata": {},
   "source": [
    "### EDA and preparing final dataset"
   ]
  },
  {
   "cell_type": "markdown",
   "metadata": {},
   "source": [
    "Please don't spend a lot of time with the EDA, just a few graphs to know what to do with the variables and move on. Please explain your reasoning for every step whenever you can.\n",
    "\n",
    "Hint: How is the selling price distributed?"
   ]
  },
  {
   "cell_type": "markdown",
   "metadata": {},
   "source": [
    "### Fitting model"
   ]
  },
  {
   "cell_type": "markdown",
   "metadata": {},
   "source": [
    "Please fit the best model you can to your adapted dataset. Fit a model of your choice.\n",
    "\n",
    "Please explain your reasoning for every step whenever you can."
   ]
  }
 ],
 "metadata": {
  "kernelspec": {
   "display_name": "Python 3",
   "language": "python",
   "name": "python3"
  },
  "language_info": {
   "codemirror_mode": {
    "name": "ipython",
    "version": 3
   },
   "file_extension": ".py",
   "mimetype": "text/x-python",
   "name": "python",
   "nbconvert_exporter": "python",
   "pygments_lexer": "ipython3",
   "version": "3.11.4"
  }
 },
 "nbformat": 4,
 "nbformat_minor": 5
}
